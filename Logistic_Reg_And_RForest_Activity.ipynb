{
  "nbformat": 4,
  "nbformat_minor": 0,
  "metadata": {
    "colab": {
      "provenance": []
    },
    "kernelspec": {
      "name": "python3",
      "display_name": "Python 3"
    },
    "language_info": {
      "name": "python"
    }
  },
  "cells": [
    {
      "cell_type": "markdown",
      "source": [
        "MR SN Ngobese 22356737"
      ],
      "metadata": {
        "id": "fH_BmNb8iVzE"
      }
    },
    {
      "cell_type": "markdown",
      "source": [
        "import libraries"
      ],
      "metadata": {
        "id": "B3HaZDB9BGBk"
      }
    },
    {
      "cell_type": "code",
      "execution_count": 40,
      "metadata": {
        "id": "LIv5s4Jb_d1-"
      },
      "outputs": [],
      "source": [
        "import pandas as pd\n",
        "import numpy as np"
      ]
    },
    {
      "cell_type": "code",
      "source": [
        "from sklearn.model_selection import train_test_split\n",
        "from sklearn.preprocessing import OneHotEncoder, StandardScaler\n",
        "from sklearn.compose import ColumnTransformer\n",
        "from sklearn.pipeline import Pipeline\n",
        "from sklearn.linear_model import LogisticRegression\n",
        "from sklearn.ensemble import RandomForestClassifier\n",
        "from sklearn.metrics import accuracy_score, confusion_matrix, classification_report, roc_auc_score"
      ],
      "metadata": {
        "id": "pFboNVKfBR0m"
      },
      "execution_count": 41,
      "outputs": []
    },
    {
      "cell_type": "markdown",
      "source": [
        "Load data"
      ],
      "metadata": {
        "id": "fPGqwqJZBaRI"
      }
    },
    {
      "cell_type": "code",
      "source": [
        "file_path = \"/content/drive/MyDrive/dataset_1/FashionDatasets/DataPenjualanFashion.xlsx\"\n",
        "sales_df = pd.read_excel(file_path, sheet_name='SalesItems')\n",
        "product_df = pd.read_excel(file_path, sheet_name='ProductItems')"
      ],
      "metadata": {
        "id": "24C2eopuBbqJ"
      },
      "execution_count": 42,
      "outputs": []
    },
    {
      "cell_type": "markdown",
      "source": [
        "Merge data on index(no product id in SalesItems)"
      ],
      "metadata": {
        "id": "V4vuNzflCELG"
      }
    },
    {
      "cell_type": "code",
      "source": [
        "merged = pd.concat([sales_df.reset_index(drop=True), product_df.reset_index(drop=True)], axis=1)\n"
      ],
      "metadata": {
        "id": "sdSGo7sCCCdo"
      },
      "execution_count": 43,
      "outputs": []
    },
    {
      "cell_type": "markdown",
      "source": [
        "Keep only relevant channels"
      ],
      "metadata": {
        "id": "HotQxvlbCWxj"
      }
    },
    {
      "cell_type": "code",
      "source": [
        "merged = merged[merged['channel'].isin(['App Mobile', 'E-commerce'])].copy()"
      ],
      "metadata": {
        "id": "CLSIc97QCVNP"
      },
      "execution_count": 44,
      "outputs": []
    },
    {
      "cell_type": "markdown",
      "source": [
        "target virables"
      ],
      "metadata": {
        "id": "PkDLB_lJCiPF"
      }
    },
    {
      "cell_type": "code",
      "source": [
        "y = (merged['channel'] == 'App Mobile').astype(int)  # 1 = App Mobile, 0 = E-commerce"
      ],
      "metadata": {
        "id": "Bpmk-e4QCbY0"
      },
      "execution_count": 45,
      "outputs": []
    },
    {
      "cell_type": "markdown",
      "source": [
        "features"
      ],
      "metadata": {
        "id": "QzWBizvHDV-0"
      }
    },
    {
      "cell_type": "code",
      "source": [
        "candidate_features = [\n",
        "    'quantity', 'original_price', 'unit_price', 'item_total',\n",
        "    'category', 'brand', 'color', 'size', 'gender',\n",
        "    'catalog_price', 'cost_price'\n",
        "]\n",
        "X = merged[candidate_features].copy()"
      ],
      "metadata": {
        "id": "LN_0rBMxDSZh"
      },
      "execution_count": 46,
      "outputs": []
    },
    {
      "cell_type": "markdown",
      "source": [
        "fill in the missing"
      ],
      "metadata": {
        "id": "amteqIeyDfUl"
      }
    },
    {
      "cell_type": "code",
      "source": [
        "for col in X.select_dtypes(include=[np.number]).columns:\n",
        "    X[col] = X[col].fillna(X[col].median())\n",
        "for col in X.select_dtypes(exclude=[np.number]).columns:\n",
        "    X[col] = X[col].fillna('missing')"
      ],
      "metadata": {
        "id": "kMaWmAqmDdgT"
      },
      "execution_count": 47,
      "outputs": []
    },
    {
      "cell_type": "markdown",
      "source": [
        "Train"
      ],
      "metadata": {
        "id": "G-JjPwFxEBoS"
      }
    },
    {
      "cell_type": "code",
      "source": [
        "X_train, X_test, y_train, y_test = train_test_split(\n",
        "    X, y, test_size=0.25, random_state=42, stratify=y\n",
        ")\n"
      ],
      "metadata": {
        "id": "j4zMUPh2D5-D"
      },
      "execution_count": 48,
      "outputs": []
    },
    {
      "cell_type": "markdown",
      "source": [
        "Preprocessing"
      ],
      "metadata": {
        "id": "VSHrNwu3Kb5g"
      }
    },
    {
      "cell_type": "code",
      "source": [
        "numeric_features = X.select_dtypes(include=[np.number]).columns.tolist()\n",
        "cat_features = X.select_dtypes(exclude=[np.number]).columns.tolist()\n",
        "\n",
        "preprocessor = ColumnTransformer(transformers=[\n",
        "    ('num', StandardScaler(), numeric_features),\n",
        "    ('cat', OneHotEncoder(handle_unknown='ignore', sparse_output=False), cat_features)\n",
        "])"
      ],
      "metadata": {
        "id": "WZseEwKKGax5"
      },
      "execution_count": 49,
      "outputs": []
    },
    {
      "cell_type": "markdown",
      "source": [
        "Logistic Regression"
      ],
      "metadata": {
        "id": "m1LISeyCKoHE"
      }
    },
    {
      "cell_type": "code",
      "source": [
        "log_pipe = Pipeline(steps=[\n",
        "    ('pre', preprocessor),\n",
        "    ('clf', LogisticRegression(max_iter=1000))\n",
        "])\n",
        "log_pipe.fit(X_train, y_train)\n",
        "y_pred_log = log_pipe.predict(X_test)\n",
        "y_proba_log = log_pipe.predict_proba(X_test)[:, 1]\n",
        "\n",
        "print(\"Logistic Regression Accuracy:\", accuracy_score(y_test, y_pred_log))\n",
        "print(\"Logistic Regression ROC AUC:\", roc_auc_score(y_test, y_proba_log))\n",
        "print(\"Logistic Regression Classification Report:\\n\", classification_report(y_test, y_pred_log))\n",
        "print(\"Logistic Regression Confusion Matrix:\\n\", confusion_matrix(y_test, y_pred_log))\n"
      ],
      "metadata": {
        "colab": {
          "base_uri": "https://localhost:8080/"
        },
        "id": "ZWXAnZcdKhNM",
        "outputId": "e087aee0-b249-4b47-c466-f892de4e308d"
      },
      "execution_count": 50,
      "outputs": [
        {
          "output_type": "stream",
          "name": "stdout",
          "text": [
            "Logistic Regression Accuracy: 0.5797872340425532\n",
            "Logistic Regression ROC AUC: 0.5471581678274121\n",
            "Logistic Regression Classification Report:\n",
            "               precision    recall  f1-score   support\n",
            "\n",
            "           0       0.56      0.91      0.69       293\n",
            "           1       0.69      0.23      0.34       271\n",
            "\n",
            "    accuracy                           0.58       564\n",
            "   macro avg       0.63      0.57      0.52       564\n",
            "weighted avg       0.62      0.58      0.52       564\n",
            "\n",
            "Logistic Regression Confusion Matrix:\n",
            " [[266  27]\n",
            " [210  61]]\n"
          ]
        }
      ]
    },
    {
      "cell_type": "markdown",
      "source": [
        "Random forest"
      ],
      "metadata": {
        "id": "cifFhq_QL0CK"
      }
    },
    {
      "cell_type": "code",
      "source": [
        "rf_pipe = Pipeline(steps=[\n",
        "    ('pre', preprocessor),\n",
        "    ('clf', RandomForestClassifier(n_estimators=200, random_state=42))\n",
        "])\n",
        "rf_pipe.fit(X_train, y_train)\n",
        "y_pred_rf = rf_pipe.predict(X_test)\n",
        "y_proba_rf = rf_pipe.predict_proba(X_test)[:, 1]\n",
        "\n",
        "print(\"\\nRandom Forest Accuracy:\", accuracy_score(y_test, y_pred_rf))\n",
        "print(\"Random Forest ROC AUC:\", roc_auc_score(y_test, y_proba_rf))\n",
        "print(\"Random Forest Classification Report:\\n\", classification_report(y_test, y_pred_rf))\n",
        "print(\"Random Forest Confusion Matrix:\\n\", confusion_matrix(y_test, y_pred_rf))"
      ],
      "metadata": {
        "colab": {
          "base_uri": "https://localhost:8080/"
        },
        "id": "LdfMTp6vKwlN",
        "outputId": "8c79bab3-ad05-44eb-8e32-aa80e01bcbfe"
      },
      "execution_count": 51,
      "outputs": [
        {
          "output_type": "stream",
          "name": "stdout",
          "text": [
            "\n",
            "Random Forest Accuracy: 0.5336879432624113\n",
            "Random Forest ROC AUC: 0.5542800649849502\n",
            "Random Forest Classification Report:\n",
            "               precision    recall  f1-score   support\n",
            "\n",
            "           0       0.55      0.57      0.56       293\n",
            "           1       0.52      0.49      0.50       271\n",
            "\n",
            "    accuracy                           0.53       564\n",
            "   macro avg       0.53      0.53      0.53       564\n",
            "weighted avg       0.53      0.53      0.53       564\n",
            "\n",
            "Random Forest Confusion Matrix:\n",
            " [[168 125]\n",
            " [138 133]]\n"
          ]
        }
      ]
    },
    {
      "cell_type": "markdown",
      "source": [
        "Feature importance from Random Forest"
      ],
      "metadata": {
        "id": "aMbcYS3zMV62"
      }
    },
    {
      "cell_type": "code",
      "source": [
        "ohe = rf_pipe.named_steps['pre'].named_transformers_['cat']\n",
        "ohe_features = list(ohe.get_feature_names_out(cat_features))\n",
        "all_features = numeric_features + ohe_features\n",
        "importances = rf_pipe.named_steps['clf'].feature_importances_\n",
        "\n",
        "feature_importance_df = pd.DataFrame({\n",
        "    'feature': all_features,\n",
        "    'importance': importances\n",
        "}).sort_values('importance', ascending=False)\n",
        "\n",
        "print(\"\\nTop 10 Important Features in Random Forest:\")\n",
        "print(feature_importance_df.head(10))"
      ],
      "metadata": {
        "colab": {
          "base_uri": "https://localhost:8080/"
        },
        "id": "BPD0hJ_DMOP5",
        "outputId": "231f935f-bc5b-46ca-908d-841f7cb664e0"
      },
      "execution_count": 52,
      "outputs": [
        {
          "output_type": "stream",
          "name": "stdout",
          "text": [
            "\n",
            "Top 10 Important Features in Random Forest:\n",
            "              feature  importance\n",
            "1      original_price    0.282625\n",
            "3          item_total    0.272561\n",
            "2          unit_price    0.267729\n",
            "4       catalog_price    0.036898\n",
            "5          cost_price    0.034990\n",
            "0            quantity    0.023102\n",
            "17          color_Red    0.005431\n",
            "16        color_Green    0.005403\n",
            "10  category_T-Shirts    0.005311\n",
            "15         color_Blue    0.005238\n"
          ]
        }
      ]
    }
  ]
}